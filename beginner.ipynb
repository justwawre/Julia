{
 "cells": [
  {
   "cell_type": "code",
   "execution_count": null,
   "metadata": {},
   "outputs": [],
   "source": [
    "typemax(Int32)\n",
    "c=2 ÷ 10"
   ]
  },
  {
   "cell_type": "code",
   "execution_count": 2,
   "metadata": {},
   "outputs": [
    {
     "data": {
      "text/plain": [
       "1.1920929f-7"
      ]
     },
     "execution_count": 2,
     "metadata": {},
     "output_type": "execute_result"
    }
   ],
   "source": [
    " eps(Float32)"
   ]
  },
  {
   "cell_type": "code",
   "execution_count": 3,
   "metadata": {},
   "outputs": [
    {
     "data": {
      "text/plain": [
       "1.0"
      ]
     },
     "execution_count": 3,
     "metadata": {},
     "output_type": "execute_result"
    }
   ],
   "source": [
    "r =(90*pi)/180 # Convert 90 degree into radians\n",
    "\n",
    "sin(r) # sin(90)=1"
   ]
  },
  {
   "cell_type": "code",
   "execution_count": 6,
   "metadata": {},
   "outputs": [
    {
     "name": "stdout",
     "output_type": "stream",
     "text": [
      "208988\n",
      " 16.475758 seconds (4.22 M allocations: 56.178 GiB, 6.71% gc time)\n"
     ]
    }
   ],
   "source": [
    "function fibonacci(n)\n",
    "    a=BigInt(1)\n",
    "    b=BigInt(1)\n",
    "    c::BigInt=a+b\n",
    "    for i in 2:n\n",
    "        c=a+b\n",
    "        a=b\n",
    "        b=c\n",
    "    end   \n",
    "    count = 0\n",
    "    while c>0\n",
    "        count+=1\n",
    "        c÷=10;\n",
    "    end    \n",
    "    \n",
    "    return count\n",
    "end    \n",
    "\n",
    "@time println(fibonacci(10^6))\n",
    "   "
   ]
  },
  {
   "cell_type": "code",
   "execution_count": 8,
   "metadata": {},
   "outputs": [
    {
     "name": "stdout",
     "output_type": "stream",
     "text": [
      "208988\n",
      " 16.479774 seconds (4.23 M allocations: 56.178 GiB, 6.47% gc time)\n"
     ]
    }
   ],
   "source": [
    "function fibonacci(n)\n",
    "    m=[BigInt(1),BigInt(1),BigInt(2)]\n",
    "    a= 1\n",
    "    b= 2\n",
    "    c=3\n",
    "    for i in 2:n\n",
    "        m[c]=m[a]+m[b]\n",
    "        c=a\n",
    "        a=b\n",
    "        b=c\n",
    "    end   \n",
    "    count = 0\n",
    "    while m[b]>0\n",
    "        count+=1\n",
    "        m[b]÷=10;\n",
    "    end    \n",
    "    \n",
    "    return count\n",
    "end    \n",
    "\n",
    "@time println(fibonacci(10^6))\n",
    "   "
   ]
  },
  {
   "cell_type": "code",
   "execution_count": null,
   "metadata": {},
   "outputs": [],
   "source": []
  }
 ],
 "metadata": {
  "kernelspec": {
   "display_name": "Julia 1.0.0",
   "language": "julia",
   "name": "julia-1.0"
  },
  "language_info": {
   "file_extension": ".jl",
   "mimetype": "application/julia",
   "name": "julia",
   "version": "1.0.0"
  }
 },
 "nbformat": 4,
 "nbformat_minor": 2
}
